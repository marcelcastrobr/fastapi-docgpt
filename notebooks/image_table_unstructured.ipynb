{
 "cells": [
  {
   "cell_type": "markdown",
   "id": "606c2ee3",
   "metadata": {},
   "source": [
    "# Using unstructured"
   ]
  },
  {
   "cell_type": "code",
   "execution_count": 42,
   "id": "1f08ab14-e117-4156-b7f3-7c97d80dc2fe",
   "metadata": {},
   "outputs": [
    {
     "data": {
      "text/plain": [
       "True"
      ]
     },
     "execution_count": 42,
     "metadata": {},
     "output_type": "execute_result"
    }
   ],
   "source": [
    "#Examples: https://colab.research.google.com/gist/alejandro-ao/47db0b8b9d00b10a96ab42dd59d90b86/langchain-multimodal.ipynb#scrollTo=8326a750\n",
    "\n",
    "#!more .env\n",
    "import os\n",
    "import base64\n",
    "import uuid\n",
    "from dotenv import load_dotenv\n",
    "\n",
    "load_dotenv() "
   ]
  },
  {
   "cell_type": "markdown",
   "id": "546a040d",
   "metadata": {},
   "source": [
    "### Unstructured: Using chunking_strategy=\"by_title\" and reconstructing orig_elements\n"
   ]
  },
  {
   "cell_type": "code",
   "execution_count": 32,
   "id": "2dddd549",
   "metadata": {},
   "outputs": [
    {
     "name": "stdout",
     "output_type": "stream",
     "text": [
      "Loaded 5 documents from BV_page225.pdf\n"
     ]
    }
   ],
   "source": [
    "from langchain_community.document_loaders import UnstructuredPDFLoader\n",
    "\n",
    "path = \"../data/\"\n",
    "file = \"BV_page225.pdf\"\n",
    "\n",
    "# Using the UnstructuredPDFLoader to load the document. In special Images and Tables.\n",
    "# Since we are usinng chunking strategy by_title, the image and tables are inside the orig_elements metadata.\n",
    "loader = UnstructuredPDFLoader(path+file,  \n",
    "                               mode=\"elements\", \n",
    "                               strategy=\"hi_res\",\n",
    "                               extract_image_block_types=[\"Image\", \"Table\"],\n",
    "                               extract_image_block_to_payload = True, \n",
    "                               chunking_strategy=\"by_title\", \n",
    "                               max_characters=4000,  \n",
    "                               new_after_n_chars=3800\n",
    "                               )\n",
    "pages = loader.load()\n",
    "print(f\"Loaded {len(pages)} documents from {file}\")"
   ]
  },
  {
   "cell_type": "markdown",
   "id": "2924814c",
   "metadata": {},
   "source": [
    "## Text"
   ]
  },
  {
   "cell_type": "code",
   "execution_count": 34,
   "id": "fa372921",
   "metadata": {},
   "outputs": [
    {
     "data": {
      "text/plain": [
       "'Pt C, Ch 1, Sec 10\\n\\n1.4 Symbols and units\\n\\n1.4.1 The following symbols and related units are commonly used in this Section. Additional symbols, related to some formulae indicated in this Section, are listed wherever it is necessary.\\n\\n: Design pressure, in MPa\\n\\np\\n\\nT : Design temperature, in °C\\n\\nt : Rule required minimum thickness, in mm\\n\\nD : Pipe external diameter, in mm.\\n\\n1.5 Class of piping systems\\n\\n1.5.1 Purpose of the classes of piping systems\\n\\nPiping systems are subdivided into three classes, denoted as class |, class II and class III, for the purpose of acceptance of materials, selection of joints, heat treatment, welding, pressure testing and the certification of fittings.\\n\\n1.5.2 Definitions of the classes of piping systems\\n\\na) Classes |, Il and III are defined in Tab 3\\n\\nb) The following systems are not covered by Tab 3:\\n\\n* cargo piping for oil tankers, gas tankers and chemical tankers, and\\n\\n¢ fluids for refrigerating plants.\\n\\nTable 3 : Class of piping systemsMedia conveyed by the piping system Class | Class Il (1) (4) Class Ill (7) Toxic media without special safeguards (3) | not applicable not applicable Corrosive media without special safeguards (3) | with special safeguards (3) | not applicable Flammable media: * heated above flashpoint, or ¢ having flashpoint < 60°C Liquefied gas without special safeguards (3) | with special safeguards (3) | not applicable Oxyacetylene irrespective of p not applicable not applicable Steam p> 1,6 or T > 300 other (2) p<0,7 andT<170 Thermal oil p> 1,6 or T > 300 other (2) p<0,7 andT<150 Fuel oil (8) Lubricating oil p>1,6o0rT>150 other (2) p <0,7 and T <60 Flammable hydraulic oil (5) Other media (5) (6) p>4orT>300 other (2) p<1,6 and T <200(1) Valves under static pressure on oil fuel tanks or lubricating oil tanks belong to class II.\\n\\n(2) Pressure and temperature conditions other than those required for class | and class\\n\\nIII.\\n\\n(3) Safeguards for reducing leakage possibility and limiting its consequences:\\n\\ne.g. pipes led in positions where leakage of internal fluids will not cause a potential hazard or damage to surrounding areas which may include the use of pipe ducts, shielding, screening etc.\\n\\n(4) Valves and fittings fitted on the ship side and collision bulkhead belong to class Il. See also [20.5.3] b).\\n\\n(5) Steering gear hydraulic piping system belongs to class | irrespective of p and T.\\n\\n(6) Including water, air, gases, non-flammable hydraulic oil, urea for SCR systems, when piping materials selected according to ISO 18611-3:2014 for urea in SCR .\\n\\n(7) The open ended pipes, irrespective of T, generally belong to class III (as drains, overflows, vents, exhaust gas lines, boiler escape pipes, etc.).\\n\\n(8) Design pressure for fuel oil systems is to be determined in accordance with Tab 4.\\n\\nNote 1: p : Design pressure, as defined in [1.3.2], in MPa.\\n\\nNote 2: T : Design temperature, as defined in [1.3.3], in °C.\\n\\nNote 3: Flammable media generally include the flammable liquids as oil fuel, lubricating oil, thermal oil and flammable hydraulic oil.\\n\\nTable 4 : Definition of the design pressure for fuel oil systemsWorking temperature T, in °C Working pressure P, in bar T<60 T > 60 p<7 3 bar or max. working pressure, 3 bar or max. working pressure, ~ whichever is the greater whichever is the greater . 14 bar or max. working pressure, Po? max. working pressure whichever is the greaterRules for the Classification of Steel Ships -\\n\\nNR467\\n\\nPtC, Ch 1, Sec 10\\n\\nJanuary 2025\\n\\n225'"
      ]
     },
     "execution_count": 34,
     "metadata": {},
     "output_type": "execute_result"
    }
   ],
   "source": [
    "document_text = \"\".join([page.page_content for page in pages])\n",
    "document_text"
   ]
  },
  {
   "cell_type": "markdown",
   "id": "5b876332",
   "metadata": {},
   "source": [
    "## Tables"
   ]
  },
  {
   "cell_type": "code",
   "execution_count": 36,
   "id": "0f23f21d",
   "metadata": {},
   "outputs": [
    {
     "name": "stdout",
     "output_type": "stream",
     "text": [
      "Media conveyed by the piping system Class | Class Il (1) (4) Class Ill (7) Toxic media without special safeguards (3) | not applicable not applicable Corrosive media without special safeguards (3) | with special safeguards (3) | not applicable Flammable media: * heated above flashpoint, or ¢ having flashpoint < 60°C Liquefied gas without special safeguards (3) | with special safeguards (3) | not applicable Oxyacetylene irrespective of p not applicable not applicable Steam p> 1,6 or T > 300 other (2) p<0,7 andT<170 Thermal oil p> 1,6 or T > 300 other (2) p<0,7 andT<150 Fuel oil (8) Lubricating oil p>1,6o0rT>150 other (2) p <0,7 and T <60 Flammable hydraulic oil (5) Other media (5) (6) p>4orT>300 other (2) p<1,6 and T <200\n",
      "Working temperature T, in °C Working pressure P, in bar T<60 T > 60 p<7 3 bar or max. working pressure, 3 bar or max. working pressure, ~ whichever is the greater whichever is the greater . 14 bar or max. working pressure, Po? max. working pressure whichever is the greater\n"
     ]
    }
   ],
   "source": [
    "#Add tables to the document text\n",
    "tables = []\n",
    "for doc in pages:\n",
    "    if 'orig_elements' in doc.metadata:\n",
    "            for orig_element in elements_from_base64_gzipped_json(doc.metadata[\"orig_elements\"]):\n",
    "                if orig_element.category == \"Table\" :\n",
    "                    tables.append(str(orig_element))\n",
    "# Join all table elements into a single string\n",
    "document_table = \"\\n\".join(tables)\n",
    "print(document_table)"
   ]
  },
  {
   "cell_type": "code",
   "execution_count": 39,
   "id": "8c906b9f",
   "metadata": {},
   "outputs": [
    {
     "data": {
      "text/plain": [
       "'Pt C, Ch 1, Sec 10\\n\\n1.4 Symbols and units\\n\\n1.4.1 The following symbols and related units are commonly used in this Section. Additional symbols, related to some formulae indicated in this Section, are listed wherever it is necessary.\\n\\n: Design pressure, in MPa\\n\\np\\n\\nT : Design temperature, in °C\\n\\nt : Rule required minimum thickness, in mm\\n\\nD : Pipe external diameter, in mm.\\n\\n1.5 Class of piping systems\\n\\n1.5.1 Purpose of the classes of piping systems\\n\\nPiping systems are subdivided into three classes, denoted as class |, class II and class III, for the purpose of acceptance of materials, selection of joints, heat treatment, welding, pressure testing and the certification of fittings.\\n\\n1.5.2 Definitions of the classes of piping systems\\n\\na) Classes |, Il and III are defined in Tab 3\\n\\nb) The following systems are not covered by Tab 3:\\n\\n* cargo piping for oil tankers, gas tankers and chemical tankers, and\\n\\n¢ fluids for refrigerating plants.\\n\\nTable 3 : Class of piping systemsMedia conveyed by the piping system Class | Class Il (1) (4) Class Ill (7) Toxic media without special safeguards (3) | not applicable not applicable Corrosive media without special safeguards (3) | with special safeguards (3) | not applicable Flammable media: * heated above flashpoint, or ¢ having flashpoint < 60°C Liquefied gas without special safeguards (3) | with special safeguards (3) | not applicable Oxyacetylene irrespective of p not applicable not applicable Steam p> 1,6 or T > 300 other (2) p<0,7 andT<170 Thermal oil p> 1,6 or T > 300 other (2) p<0,7 andT<150 Fuel oil (8) Lubricating oil p>1,6o0rT>150 other (2) p <0,7 and T <60 Flammable hydraulic oil (5) Other media (5) (6) p>4orT>300 other (2) p<1,6 and T <200(1) Valves under static pressure on oil fuel tanks or lubricating oil tanks belong to class II.\\n\\n(2) Pressure and temperature conditions other than those required for class | and class\\n\\nIII.\\n\\n(3) Safeguards for reducing leakage possibility and limiting its consequences:\\n\\ne.g. pipes led in positions where leakage of internal fluids will not cause a potential hazard or damage to surrounding areas which may include the use of pipe ducts, shielding, screening etc.\\n\\n(4) Valves and fittings fitted on the ship side and collision bulkhead belong to class Il. See also [20.5.3] b).\\n\\n(5) Steering gear hydraulic piping system belongs to class | irrespective of p and T.\\n\\n(6) Including water, air, gases, non-flammable hydraulic oil, urea for SCR systems, when piping materials selected according to ISO 18611-3:2014 for urea in SCR .\\n\\n(7) The open ended pipes, irrespective of T, generally belong to class III (as drains, overflows, vents, exhaust gas lines, boiler escape pipes, etc.).\\n\\n(8) Design pressure for fuel oil systems is to be determined in accordance with Tab 4.\\n\\nNote 1: p : Design pressure, as defined in [1.3.2], in MPa.\\n\\nNote 2: T : Design temperature, as defined in [1.3.3], in °C.\\n\\nNote 3: Flammable media generally include the flammable liquids as oil fuel, lubricating oil, thermal oil and flammable hydraulic oil.\\n\\nTable 4 : Definition of the design pressure for fuel oil systemsWorking temperature T, in °C Working pressure P, in bar T<60 T > 60 p<7 3 bar or max. working pressure, 3 bar or max. working pressure, ~ whichever is the greater whichever is the greater . 14 bar or max. working pressure, Po? max. working pressure whichever is the greaterRules for the Classification of Steel Ships -\\n\\nNR467\\n\\nPtC, Ch 1, Sec 10\\n\\nJanuary 2025\\n\\n225\\nMedia conveyed by the piping system Class | Class Il (1) (4) Class Ill (7) Toxic media without special safeguards (3) | not applicable not applicable Corrosive media without special safeguards (3) | with special safeguards (3) | not applicable Flammable media: * heated above flashpoint, or ¢ having flashpoint < 60°C Liquefied gas without special safeguards (3) | with special safeguards (3) | not applicable Oxyacetylene irrespective of p not applicable not applicable Steam p> 1,6 or T > 300 other (2) p<0,7 andT<170 Thermal oil p> 1,6 or T > 300 other (2) p<0,7 andT<150 Fuel oil (8) Lubricating oil p>1,6o0rT>150 other (2) p <0,7 and T <60 Flammable hydraulic oil (5) Other media (5) (6) p>4orT>300 other (2) p<1,6 and T <200\\nWorking temperature T, in °C Working pressure P, in bar T<60 T > 60 p<7 3 bar or max. working pressure, 3 bar or max. working pressure, ~ whichever is the greater whichever is the greater . 14 bar or max. working pressure, Po? max. working pressure whichever is the greater'"
      ]
     },
     "execution_count": 39,
     "metadata": {},
     "output_type": "execute_result"
    }
   ],
   "source": [
    "document_all = \"\\n\".join([document_text, document_table])\n",
    "document_all"
   ]
  },
  {
   "cell_type": "markdown",
   "id": "78e32749",
   "metadata": {},
   "source": [
    "### Chunks"
   ]
  },
  {
   "cell_type": "code",
   "execution_count": 43,
   "id": "ced2ab26",
   "metadata": {},
   "outputs": [
    {
     "data": {
      "text/plain": [
       "[Document(metadata={}, page_content='Pt C, Ch 1, Sec 10\\n\\n1.4 Symbols and units\\n\\n1.4.1 The following symbols and related units are commonly used in this Section. Additional symbols, related to some formulae indicated in this Section, are listed wherever it is necessary.\\n\\n: Design pressure, in MPa\\n\\np\\n\\nT : Design temperature, in °C\\n\\nt : Rule required minimum thickness, in mm\\n\\nD : Pipe external diameter, in mm.\\n\\n1.5 Class of piping systems\\n\\n1.5.1 Purpose of the classes of piping systems\\n\\nPiping systems are subdivided into three classes, denoted as class |, class II and class III, for the purpose of acceptance of materials, selection of joints, heat treatment, welding, pressure testing and the certification of fittings.\\n\\n1.5.2 Definitions of the classes of piping systems\\n\\na) Classes |, Il and III are defined in Tab 3\\n\\nb) The following systems are not covered by Tab 3:\\n\\n* cargo piping for oil tankers, gas tankers and chemical tankers, and\\n\\n¢ fluids for refrigerating plants.\\n\\nTable 3 : Class of piping systemsMedia conveyed by the piping system Class | Class Il (1) (4) Class Ill (7) Toxic media without special safeguards (3) | not applicable not applicable Corrosive media without special safeguards (3) | with special safeguards (3) | not applicable Flammable media: * heated above flashpoint, or ¢ having flashpoint < 60°C Liquefied gas without special safeguards (3) | with special safeguards (3) | not applicable Oxyacetylene irrespective of p not applicable not applicable Steam p> 1,6 or T > 300 other (2) p<0,7 andT<170 Thermal oil p> 1,6 or T > 300 other (2) p<0,7 andT<150 Fuel oil (8) Lubricating oil p>1,6o0rT>150 other (2) p <0,7 and T <60 Flammable hydraulic oil (5) Other media (5) (6) p>4orT>300 other (2) p<1,6 and T <200(1) Valves under static pressure on oil fuel tanks or lubricating oil tanks belong to class II.\\n\\n(2) Pressure and temperature conditions other than those required for class | and class\\n\\nIII.\\n\\n(3) Safeguards for reducing leakage possibility and limiting its consequences:'),\n",
       " Document(metadata={}, page_content='(2) Pressure and temperature conditions other than those required for class | and class\\n\\nIII.\\n\\n(3) Safeguards for reducing leakage possibility and limiting its consequences:\\n\\ne.g. pipes led in positions where leakage of internal fluids will not cause a potential hazard or damage to surrounding areas which may include the use of pipe ducts, shielding, screening etc.\\n\\n(4) Valves and fittings fitted on the ship side and collision bulkhead belong to class Il. See also [20.5.3] b).\\n\\n(5) Steering gear hydraulic piping system belongs to class | irrespective of p and T.\\n\\n(6) Including water, air, gases, non-flammable hydraulic oil, urea for SCR systems, when piping materials selected according to ISO 18611-3:2014 for urea in SCR .\\n\\n(7) The open ended pipes, irrespective of T, generally belong to class III (as drains, overflows, vents, exhaust gas lines, boiler escape pipes, etc.).\\n\\n(8) Design pressure for fuel oil systems is to be determined in accordance with Tab 4.\\n\\nNote 1: p : Design pressure, as defined in [1.3.2], in MPa.\\n\\nNote 2: T : Design temperature, as defined in [1.3.3], in °C.\\n\\nNote 3: Flammable media generally include the flammable liquids as oil fuel, lubricating oil, thermal oil and flammable hydraulic oil.\\n\\nTable 4 : Definition of the design pressure for fuel oil systemsWorking temperature T, in °C Working pressure P, in bar T<60 T > 60 p<7 3 bar or max. working pressure, 3 bar or max. working pressure, ~ whichever is the greater whichever is the greater . 14 bar or max. working pressure, Po? max. working pressure whichever is the greaterRules for the Classification of Steel Ships -\\n\\nNR467\\n\\nPtC, Ch 1, Sec 10\\n\\nJanuary 2025'),\n",
       " Document(metadata={}, page_content='NR467\\n\\nPtC, Ch 1, Sec 10\\n\\nJanuary 2025\\n\\n225\\nMedia conveyed by the piping system Class | Class Il (1) (4) Class Ill (7) Toxic media without special safeguards (3) | not applicable not applicable Corrosive media without special safeguards (3) | with special safeguards (3) | not applicable Flammable media: * heated above flashpoint, or ¢ having flashpoint < 60°C Liquefied gas without special safeguards (3) | with special safeguards (3) | not applicable Oxyacetylene irrespective of p not applicable not applicable Steam p> 1,6 or T > 300 other (2) p<0,7 andT<170 Thermal oil p> 1,6 or T > 300 other (2) p<0,7 andT<150 Fuel oil (8) Lubricating oil p>1,6o0rT>150 other (2) p <0,7 and T <60 Flammable hydraulic oil (5) Other media (5) (6) p>4orT>300 other (2) p<1,6 and T <200\\nWorking temperature T, in °C Working pressure P, in bar T<60 T > 60 p<7 3 bar or max. working pressure, 3 bar or max. working pressure, ~ whichever is the greater whichever is the greater . 14 bar or max. working pressure, Po? max. working pressure whichever is the greater')]"
      ]
     },
     "execution_count": 43,
     "metadata": {},
     "output_type": "execute_result"
    }
   ],
   "source": [
    "from langchain.text_splitter import RecursiveCharacterTextSplitter\n",
    "\n",
    "# Split the document into chunks\n",
    "text_splitter = RecursiveCharacterTextSplitter(\n",
    "    chunk_size=2000,  # Adjust as needed\n",
    "    chunk_overlap=200  # Adjust as needed\n",
    ")\n",
    "chunks = text_splitter.create_documents([document_all])\n",
    "chunks"
   ]
  },
  {
   "cell_type": "markdown",
   "id": "200e7e13",
   "metadata": {},
   "source": [
    "## Images"
   ]
  },
  {
   "cell_type": "code",
   "execution_count": 5,
   "id": "b300145e",
   "metadata": {},
   "outputs": [
    {
     "data": {
      "text/plain": [
       "'Title'"
      ]
     },
     "execution_count": 5,
     "metadata": {},
     "output_type": "execute_result"
    }
   ],
   "source": [
    "from unstructured.staging.base import elements_from_base64_gzipped_json\n",
    "\n",
    "orig_elements = elements_from_base64_gzipped_json(sub_docs[0].metadata[\"orig_elements\"])\n",
    "orig_elements[1].category"
   ]
  },
  {
   "cell_type": "code",
   "execution_count": 11,
   "id": "10735b00",
   "metadata": {},
   "outputs": [
    {
     "data": {
      "text/plain": [
       "'ListItem'"
      ]
     },
     "execution_count": 11,
     "metadata": {},
     "output_type": "execute_result"
    }
   ],
   "source": [
    "orig_elements[7].category"
   ]
  },
  {
   "cell_type": "code",
   "execution_count": 12,
   "id": "3e30c826",
   "metadata": {},
   "outputs": [],
   "source": [
    "# Retrive the image_base64 from orig_elements metadata and store in a list. More than one image can exist per chunk.\n",
    "for doc in sub_docs:\n",
    "    image_base64_list = []\n",
    "    if 'orig_elements' in doc.metadata:\n",
    "        for orig_element in elements_from_base64_gzipped_json(doc.metadata[\"orig_elements\"]):\n",
    "            if orig_element.category == \"Image\" and orig_element.metadata.image_base64 != \"\":\n",
    "                image_base64_list.append(orig_element.metadata.image_base64)\n",
    "                print(f\"    {doc.metadata['element_id']} \\\n",
    "                      {doc.metadata['page_number']} \\\n",
    "                        {orig_element.category}: \\\n",
    "                            {orig_element.metadata.image_base64}\")\n",
    "        if (len(image_base64_list) > 0):\n",
    "            doc.metadata['list_image_base64'] = image_base64_list\n",
    "            print(f\"Document {doc.metadata['element_id']} has {len(image_base64_list)} images\")    \n",
    "    \n",
    "            "
   ]
  }
 ],
 "metadata": {
  "kernelspec": {
   "display_name": "fastapi",
   "language": "python",
   "name": "python3"
  },
  "language_info": {
   "codemirror_mode": {
    "name": "ipython",
    "version": 3
   },
   "file_extension": ".py",
   "mimetype": "text/x-python",
   "name": "python",
   "nbconvert_exporter": "python",
   "pygments_lexer": "ipython3",
   "version": "3.11.10"
  }
 },
 "nbformat": 4,
 "nbformat_minor": 5
}
